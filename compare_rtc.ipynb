{
 "cells": [
  {
   "cell_type": "markdown",
   "metadata": {},
   "source": [
    "# Comparison of Sentinel-1 RTC products from different software"
   ]
  },
  {
   "cell_type": "code",
   "execution_count": null,
   "metadata": {},
   "outputs": [],
   "source": [
    "import os\n",
    "import fsspec\n",
    "import h5py\n",
    "import numpy as np\n",
    "import matplotlib.pyplot as plt\n",
    "import requests\n",
    "import boto3\n",
    "import pandas as pd\n",
    "import json\n",
    "\n",
    "%matplotlib inline"
   ]
  },
  {
   "cell_type": "markdown",
   "metadata": {},
   "source": [
    "# Settings"
   ]
  },
  {
   "cell_type": "code",
   "execution_count": null,
   "metadata": {},
   "outputs": [],
   "source": [
    "# general structure for scenes in s3\n",
    "# s3_bucket/software/dem/scene/scene_files\n",
    "s3_bucket = 'deant-data-public-dev'\n",
    "softwares = ['pyrosar','rtc-opera']\n",
    "scenes = [\n",
    "    'S1B_IW_SLC__1SSH_20190223T222639_20190223T222706_015079_01C2E9_1D63',\n",
    "    'S1A_IW_SLC__1SSH_20190605T222724_20190605T222751_027550_031BE1_AD3A'\n",
    "]\n",
    "dem = 'glo_30'\n",
    "\n",
    "# get credebtials for AWS\n",
    "with open('aws_credentials.txt') as f:\n",
    "    ACCESS_ID, ACCESS_KEY = f.readlines()\n",
    "    ACCESS_ID = ACCESS_ID.strip()\n",
    "    ACCESS_KEY = ACCESS_KEY.strip()\n",
    "\n",
    "# setup s3\n",
    "s3 = boto3.client('s3', \n",
    "                        region_name='ap-southeast-2',\n",
    "                        aws_access_key_id=ACCESS_ID,\n",
    "                        aws_secret_access_key= ACCESS_KEY)"
   ]
  },
  {
   "cell_type": "markdown",
   "metadata": {},
   "source": [
    "## Show example scene files for software"
   ]
  },
  {
   "cell_type": "code",
   "execution_count": null,
   "metadata": {},
   "outputs": [],
   "source": [
    "for software in softwares:\n",
    "    print(f'software : {software}')\n",
    "    params = {\n",
    "        \"Bucket\": f'{s3_bucket}',\n",
    "        \"Prefix\": f'{software}/{dem}/{scenes[0]}'\n",
    "    }\n",
    "    objects = s3.list_objects_v2(**params)\n",
    "    if 'Contents' in objects.keys():\n",
    "        for x in objects['Contents']:\n",
    "            print(x)\n",
    "    print('\\n')"
   ]
  },
  {
   "cell_type": "markdown",
   "metadata": {},
   "source": [
    "# Compare timing"
   ]
  },
  {
   "cell_type": "code",
   "execution_count": null,
   "metadata": {},
   "outputs": [],
   "source": [
    "timing_data = []\n",
    "for software in softwares:\n",
    "    for scene in scenes:\n",
    "        timing_file = f'{software}/{dem}/{scene}/{scene}_timing.json'\n",
    "        try:\n",
    "            s3.download_file(s3_bucket, timing_file, 'tmp.json')\n",
    "            with open('tmp.json') as json_file:\n",
    "                data = json.load(json_file)\n",
    "                data['software'] = software\n",
    "                data['scene'] = scene\n",
    "            timing_data.append(data)\n",
    "            print(f'downloaded: {timing_file}')\n",
    "        except:\n",
    "            print(f'no timing file: {timing_file}')\n",
    "\n",
    "df_timing = pd.DataFrame.from_records(timing_data, index=['software','scene'])\n",
    "df_timing"
   ]
  },
  {
   "cell_type": "code",
   "execution_count": null,
   "metadata": {},
   "outputs": [],
   "source": [
    "import fsspec\n",
    "import h5py\n",
    "import numpy as np\n",
    "import matplotlib.pyplot as plt\n"
   ]
  },
  {
   "cell_type": "code",
   "execution_count": null,
   "metadata": {},
   "outputs": [],
   "source": [
    "f = '/data/OPERA/outdir/OPERA_L2_RTC-S1B_IW_SLC__1SSH_20190223T222639_20190223T222706_015079_01C2E9_1D63_REMA500.h5'\n",
    "fs1 = fsspec.open(f, mode='rb', anon=True, default_fill_cache=False)\n",
    "f1 = h5py.File(fs1.open(),'r')"
   ]
  },
  {
   "cell_type": "code",
   "execution_count": null,
   "metadata": {},
   "outputs": [],
   "source": [
    "list(f1.keys())"
   ]
  },
  {
   "cell_type": "code",
   "execution_count": null,
   "metadata": {},
   "outputs": [],
   "source": [
    "f1['metadata']['processingInformation']['parameters'].keys()"
   ]
  },
  {
   "cell_type": "code",
   "execution_count": null,
   "metadata": {},
   "outputs": [],
   "source": [
    "for x in f1['data'].keys():\n",
    "    print(x + ' : ', f1['data'][x])"
   ]
  },
  {
   "cell_type": "code",
   "execution_count": null,
   "metadata": {},
   "outputs": [],
   "source": [
    "np.nanmax(f1['data']['numberOfLooks'][:])"
   ]
  },
  {
   "cell_type": "code",
   "execution_count": null,
   "metadata": {},
   "outputs": [],
   "source": []
  }
 ],
 "metadata": {
  "kernelspec": {
   "display_name": "pyroSAR",
   "language": "python",
   "name": "python3"
  },
  "language_info": {
   "codemirror_mode": {
    "name": "ipython",
    "version": 3
   },
   "file_extension": ".py",
   "mimetype": "text/x-python",
   "name": "python",
   "nbconvert_exporter": "python",
   "pygments_lexer": "ipython3",
   "version": "3.9.18"
  }
 },
 "nbformat": 4,
 "nbformat_minor": 2
}
