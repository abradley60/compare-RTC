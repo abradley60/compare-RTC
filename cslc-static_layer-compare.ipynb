{
 "cells": [
  {
   "cell_type": "code",
   "execution_count": null,
   "metadata": {},
   "outputs": [],
   "source": [
    "import os\n",
    "import h5py\n",
    "import numpy as np\n",
    "import seaborn as sns\n",
    "import matplotlib.pyplot as plt\n",
    "import rasterio\n",
    "from rasterio.crs import CRS\n",
    "from rasterio.enums import Resampling\n",
    "import rioxarray\n",
    "import asf_search as asf\n",
    "from shapely.geometry import Polygon\n",
    "\n",
    "from utils.compare import make_gif, assign_crs, plot_tifs, plot_difference_maps, reproject_match_tifs, plot_array\n",
    "\n",
    "sns.set_theme()\n",
    "%matplotlib inline"
   ]
  },
  {
   "cell_type": "code",
   "execution_count": null,
   "metadata": {},
   "outputs": [],
   "source": [
    "# data from https://deant-data-public-dev.s3.ap-southeast-2.amazonaws.com/index.html?prefix=static-layers/20231224T032111/\n",
    "rtc_VV_tif = 'data/cslc/OPERA_L2_RTC-S1_T094-200132-IW3_20231224T032111Z_20231224T110416Z_S1A_30_v1.0_VV.tif'\n",
    "rtc_looks = 'data/cslc/OPERA_L2_RTC-S1-STATIC_T094-200132-IW3_20140403_S1A_30_v1.0_number_of_looks.tif'\n",
    "rtc_gamma2beta = 'data/cslc/OPERA_L2_RTC-S1-STATIC_T094-200132-IW3_20140403_S1A_30_v1.0_rtc_anf_gamma0_to_beta0.tif'\n",
    "cslc_vv_h5 = 'data/cslc/OPERA_L2_CSLC-S1_T094-200132-IW3_20231224T032111Z_20231225T081521Z_S1A_VV_v1.0.h5'\n",
    "cslc_static = 'data/cslc/OPERA_L2_CSLC-S1-STATIC_T004-006637-IW3_20140403_S1A_v1.0.h5'"
   ]
  },
  {
   "cell_type": "code",
   "execution_count": null,
   "metadata": {},
   "outputs": [],
   "source": [
    "# read rtc product\n",
    "with rasterio.open(rtc_VV_tif) as src:\n",
    "    rtc = src.read(1)\n",
    "print(f'rtc burst shape: {rtc.shape}')\n",
    "\n",
    "# read GammtoBeta product\n",
    "with rasterio.open(rtc_gamma2beta) as src:\n",
    "    gamma2beta = src.read(1)\n",
    "print(f'gamma to beta burst shape: {gamma2beta.shape}')\n",
    "\n",
    "# calculate rtc in beta\n",
    "rtc_beta = rtc*gamma2beta\n",
    "\n",
    "# read in clsc data\n",
    "h5_data = h5py.File(cslc_vv_h5,'r')\n",
    "vv = h5_data['data']['VV'][:]\n",
    "cslc_backscatter = np.abs(vv.real) ** 2 + np.abs(vv.imag) ** 2\n",
    "print(f'cslc burst shape: {vv.shape}')\n",
    "\n",
    "print(cslc_backscatter.shape)\n",
    "print(vv.shape)\n",
    "print('keys')\n",
    "print(list(h5_data))\n",
    "print('data keys')\n",
    "print(list(h5_data['data'].keys()))\n",
    "print('metadata keys')\n",
    "print(list(h5_data['metadata'].keys()))"
   ]
  },
  {
   "cell_type": "code",
   "execution_count": null,
   "metadata": {},
   "outputs": [],
   "source": [
    "import numpy as np\n",
    "from scipy.ndimage import zoom\n",
    "import matplotlib.pyplot as plt\n",
    "# Define the desired dimensions after downscaling\n",
    "new_shape = rtc.shape  # (rows, columns)\n",
    "# Calculate the zoom factors for each dimension\n",
    "zoom_factors = (new_shape[0] / cslc_backscatter.shape[0], new_shape[1] / cslc_backscatter.shape[1])\n",
    "# Perform the downsampling using scipy.ndimage.zoom\n",
    "downscaled_cslc_backscatter = zoom(cslc_backscatter, zoom_factors, order=1, mode='nearest')"
   ]
  },
  {
   "cell_type": "code",
   "execution_count": null,
   "metadata": {},
   "outputs": [],
   "source": [
    "print('cslc_backscatter')\n",
    "plot_array(\n",
    "    cslc_backscatter,\n",
    "    vmin='P10',\n",
    "    vmax='P90'\n",
    ")\n",
    "print('rtc')\n",
    "plot_array(\n",
    "    rtc,\n",
    "    vmin='P10',\n",
    "    vmax='P90'\n",
    ")\n",
    "print('downscaled_cslc_backscatter')\n",
    "plot_array(\n",
    "    downscaled_cslc_backscatter,\n",
    "    vmin='P10',\n",
    "    vmax='P90'\n",
    ")\n",
    "print('rtc_beta')\n",
    "plot_array(\n",
    "    rtc_beta,\n",
    "    vmin='P10',\n",
    "    vmax='P90'\n",
    ")\n",
    "print('divide')\n",
    "plot_array(\n",
    "    downscaled_cslc_backscatter/rtc_beta,\n",
    "    vmin='P10',\n",
    "    vmax='P90'\n",
    ")"
   ]
  },
  {
   "cell_type": "code",
   "execution_count": null,
   "metadata": {},
   "outputs": [],
   "source": []
  }
 ],
 "metadata": {
  "kernelspec": {
   "display_name": "compare-rtc",
   "language": "python",
   "name": "python3"
  },
  "language_info": {
   "codemirror_mode": {
    "name": "ipython",
    "version": 3
   },
   "file_extension": ".py",
   "mimetype": "text/x-python",
   "name": "python",
   "nbconvert_exporter": "python",
   "pygments_lexer": "ipython3",
   "version": "3.9.18"
  }
 },
 "nbformat": 4,
 "nbformat_minor": 2
}
