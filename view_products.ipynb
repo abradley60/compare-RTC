{
 "cells": [
  {
   "cell_type": "code",
   "execution_count": null,
   "metadata": {},
   "outputs": [],
   "source": [
    "import yaml\n",
    "import boto3\n",
    "import h5py\n",
    "import os\n",
    "import numpy as np\n",
    "import matplotlib.pyplot as plt\n",
    "import rasterio"
   ]
  },
  {
   "cell_type": "code",
   "execution_count": null,
   "metadata": {},
   "outputs": [],
   "source": [
    "# general structure for scenes in s3\n",
    "# s3_bucket/software/dem/scene/scene_files\n",
    "s3_bucket = 'deant-data-public-dev'\n",
    "aws_credentials = 'credentials/credentials_aws.yaml'\n",
    "\n",
    "# get crededentials for AWS\n",
    "with open('aws_credentials.txt') as f:\n",
    "    ACCESS_ID, ACCESS_KEY = f.readlines()\n",
    "    ACCESS_ID = ACCESS_ID.strip()\n",
    "    ACCESS_KEY = ACCESS_KEY.strip()\n",
    "\n",
    "# setup s3\n",
    "s3 = boto3.client(\n",
    "    's3', \n",
    "    region_name='ap-southeast-2',\n",
    "    aws_access_key_id=ACCESS_ID,\n",
    "    aws_secret_access_key= ACCESS_KEY)\n",
    "\n",
    "# make data directory to store local files\n",
    "data_dir = 'data/scratch'\n",
    "os.makedirs(data_dir, exist_ok=True)"
   ]
  },
  {
   "cell_type": "code",
   "execution_count": null,
   "metadata": {},
   "outputs": [],
   "source": [
    "# set the scene we want to look at\n",
    "software = 'rtc-opera'\n",
    "dem = 'glo_30'\n",
    "crs = '3031'\n",
    "scene = 'S1B_IW_SLC__1SSH_20190315T195015_20190315T195045_015369_01CC73_DB8B'\n",
    "h5_file = f'OPERA_L2_RTC-{scene}.h5'.replace('no_rtc','')\n",
    "#h5_file = f'OPERA_L2_RTC-{scene}_HH.tif'.replace('no_rtc','')\n",
    "s3_prefix = f'{software}/{dem}/{crs}/{scene}/{h5_file}'\n",
    "local_path = f'{data_dir}/{h5_file}'\n",
    "# download file\n",
    "download = True\n",
    "if download:\n",
    "    print(f'downloading {s3_prefix}')\n",
    "    if not os.path.exists(local_path):\n",
    "        s3.download_file(s3_bucket, s3_prefix, local_path)\n"
   ]
  },
  {
   "cell_type": "code",
   "execution_count": null,
   "metadata": {},
   "outputs": [],
   "source": [
    "# load the h5 file\n",
    "h5_data = h5py.File(local_path,'r')\n",
    "print('keys')\n",
    "print(list(h5_data))\n",
    "print('data keys')\n",
    "print(list(h5_data['data'].keys()))\n",
    "print('metadata keys')\n",
    "print(list(h5_data['metadata'].keys()))\n",
    "print(list(h5_data['metadata']['processingInformation']['parameters'].keys()))"
   ]
  },
  {
   "cell_type": "code",
   "execution_count": null,
   "metadata": {},
   "outputs": [],
   "source": [
    "def plot_array(\n",
    "    arr, \n",
    "    cmap='binary_r',\n",
    "    vmin=None,\n",
    "    vmax=None,\n",
    "    title='',\n",
    "    ylabel='',\n",
    "    save_path=''):\n",
    "\n",
    "    stats_arr = np.array(arr)[np.array((np.isfinite(arr)))]\n",
    "    print('Array Stats (excl nodata)')\n",
    "    print(f'min: {stats_arr.min()}', \n",
    "        f'max: {stats_arr.max()}',\n",
    "        f'mean: {stats_arr.mean()}',\n",
    "        f'median: {np.percentile(stats_arr, 50)}',\n",
    "        f'5th percentile: {np.percentile(stats_arr, 5)}',\n",
    "        f'90th percentile: {np.percentile(stats_arr, 95)}',\n",
    "        )\n",
    "\n",
    "    # calculate percentiles if vmin or vmax is set as 'PXX'\n",
    "    # e.g. vmin = 'P5'\n",
    "    if vmin:\n",
    "        if str(vmin)[0].upper() == 'P':\n",
    "            vmin = np.percentile(stats_arr,int(vmin[1:]))\n",
    "    if vmax:\n",
    "        if str(vmax)[0].upper() == 'P':\n",
    "            vmax = np.percentile(stats_arr,int(vmax[1:]))\n",
    "\n",
    "    f, ax = plt.subplots(figsize=(10,10))\n",
    "    im = ax.imshow(arr, \n",
    "            vmin = vmin, \n",
    "            vmax = vmax,\n",
    "            cmap = cmap)\n",
    "    plt.title(title)\n",
    "    f.colorbar(im, ax=ax, label=ylabel)\n",
    "    if save_path:\n",
    "        plt.savefig(save_path)"
   ]
  },
  {
   "cell_type": "code",
   "execution_count": null,
   "metadata": {},
   "outputs": [],
   "source": [
    "for i,k in enumerate(h5_data['data'].keys()):\n",
    "    print(k)\n",
    "    try:\n",
    "        print(h5_data['data'][k].shape)\n",
    "        plot_array(h5_data['data'][k],\n",
    "                save_path=os.path.join(data_dir,f'{scene}_{k}.jpg'),\n",
    "                vmin='P5',\n",
    "                vmax='P95')\n",
    "    except:\n",
    "        f'skipping, no image for: {k}'\n",
    "    # if i == 0:\n",
    "    #     break"
   ]
  },
  {
   "cell_type": "markdown",
   "metadata": {},
   "source": [
    "### Comparing Gamma, Beta and the rtcAreaNormalizationFactorGamma0ToBeta0 Layer"
   ]
  },
  {
   "cell_type": "code",
   "execution_count": null,
   "metadata": {},
   "outputs": [],
   "source": [
    "with rasterio.open('data/scratch/OPERA_L2_RTC-S1B_IW_SLC__1SSH_20190315T195015_20190315T195045_015369_01CC73_DB8B_HH.tif') as src:\n",
    "    gamma = src.read(1)\n",
    "with rasterio.open('data/scratch/no_rtcOPERA_L2_RTC-S1B_IW_SLC__1SSH_20190315T195015_20190315T195045_015369_01CC73_DB8B_HH.tif') as src:\n",
    "    beta = src.read(1)\n",
    "rtcAreaNormalizationFactorGamma0ToBeta0 = np.array(h5py.File(\n",
    "    'data/scratch/OPERA_L2_RTC-S1B_IW_SLC__1SSH_20190315T195015_20190315T195045_015369_01CC73_DB8B.h5',\n",
    "    'r')['data']['rtcAreaNormalizationFactorGamma0ToBeta0'])\n",
    "dem = np.array(h5py.File(\n",
    "    'data/scratch/OPERA_L2_RTC-S1B_IW_SLC__1SSH_20190315T195015_20190315T195045_015369_01CC73_DB8B.h5',\n",
    "    'r')['data']['interpolatedDem'])\n",
    "\n",
    "#match nodata\n",
    "gamma[np.isnan(beta)] = np.nan\n",
    "beta[np.isnan(gamma)] = np.nan\n",
    "\n",
    "print(gamma.shape)\n",
    "print(beta.shape)\n",
    "print(rtcAreaNormalizationFactorGamma0ToBeta0.shape)\n"
   ]
  },
  {
   "cell_type": "markdown",
   "metadata": {},
   "source": [
    "Single pixel estimated value"
   ]
  },
  {
   "cell_type": "code",
   "execution_count": null,
   "metadata": {},
   "outputs": [],
   "source": [
    "x, y = 5802, 4710 # get pixel from layers \n",
    "gamma_val = gamma[x,y]\n",
    "beta_val = beta[x,y]\n",
    "GammatoBeta_val = rtcAreaNormalizationFactorGamma0ToBeta0[x,y]\n",
    "beta_est = gamma_val*GammatoBeta_val\n",
    "print(f'pixel {x},{y}')\n",
    "print(f'gamma: {gamma_val}')\n",
    "print(f'beta: {beta_val}') \n",
    "print(f'rtcAreaNormalizationFactorGamma0ToBeta0: {GammatoBeta_val}')\n",
    "print(f'beta_est = gamma * rtcAreaNormalizationFactorGamma0ToBeta0: {beta_est}')\n",
    "print(f'beta - beta_est = {beta_est - beta_val}')\n",
    "print(f'% err = {(100*(beta_est - beta_val)/beta_val)}')\n"
   ]
  },
  {
   "cell_type": "code",
   "execution_count": null,
   "metadata": {},
   "outputs": [],
   "source": [
    "# calculate estimate for full array\n",
    "beta_est = gamma*rtcAreaNormalizationFactorGamma0ToBeta0\n",
    "# percentage error of estimate from gammatobeta later\n",
    "beta_est_err = 100*((beta-beta_est)/beta) \n",
    "\n",
    "# gamma \n",
    "gamma_est = beta*(1/rtcAreaNormalizationFactorGamma0ToBeta0)\n",
    "gamma_est_err = 100*((gamma-gamma_est)/gamma) "
   ]
  },
  {
   "cell_type": "code",
   "execution_count": null,
   "metadata": {},
   "outputs": [],
   "source": [
    "print('Percentage error of estimate beta from gamma')\n",
    "plot_array(gamma_est_err,\n",
    "                vmin=-20,\n",
    "                vmax=20,\n",
    "                cmap='bwr')\n",
    "print('rtcAreaNormalizationFactorGamma0ToBeta0')\n",
    "plot_array(rtcAreaNormalizationFactorGamma0ToBeta0,\n",
    "                vmin='P5',\n",
    "                vmax='P95',\n",
    "                cmap='bwr')\n",
    "print('dem')\n",
    "plot_array(dem,\n",
    "                vmin='P5',\n",
    "                vmax='P99',\n",
    "                cmap='binary')\n",
    "plot_array(gamma,\n",
    "                vmin='P5',\n",
    "                vmax='P95',\n",
    "                cmap='binary')\n"
   ]
  },
  {
   "cell_type": "markdown",
   "metadata": {},
   "source": [
    "Two Layers needed from SLC\n",
    "1. Lookup table - rdr2geo usig DEM\n",
    "2. Radiometric Ratio Layer\n",
    "\n",
    "1 layer needed for GSLC?\n",
    "1. Radiometric Ratio Layer\n",
    "\n",
    "Use coregistered CSLCS - these are geolocated\n",
    "1. Radiometric Ratio Layer \n",
    "\n",
    "Is there an advantage of storing a ratio product opposed to the rtc layer itself?"
   ]
  },
  {
   "cell_type": "code",
   "execution_count": null,
   "metadata": {},
   "outputs": [],
   "source": []
  }
 ],
 "metadata": {
  "kernelspec": {
   "display_name": "rtc_otf_env",
   "language": "python",
   "name": "python3"
  },
  "language_info": {
   "codemirror_mode": {
    "name": "ipython",
    "version": 3
   },
   "file_extension": ".py",
   "mimetype": "text/x-python",
   "name": "python",
   "nbconvert_exporter": "python",
   "pygments_lexer": "ipython3",
   "version": "3.9.18"
  }
 },
 "nbformat": 4,
 "nbformat_minor": 2
}
